{
  "nbformat": 4,
  "nbformat_minor": 0,
  "metadata": {
    "accelerator": "GPU",
    "colab": {
      "name": "Jonathan_Jackson-Taco_Demo_Yolov5.ipynb",
      "provenance": [],
      "collapsed_sections": []
    },
    "kernelspec": {
      "display_name": "Python 3",
      "name": "python3"
    },
    "language_info": {
      "name": "python"
    }
  },
  "cells": [
    {
      "cell_type": "code",
      "metadata": {
        "id": "J6bd78Z0zh1u"
      },
      "source": [
        ""
      ],
      "execution_count": null,
      "outputs": []
    },
    {
      "cell_type": "code",
      "metadata": {
        "colab": {
          "base_uri": "https://localhost:8080/"
        },
        "id": "AKsDUtexxZlT",
        "outputId": "27228e18-581e-4960-eec9-60a0c1a2e5dd"
      },
      "source": [
        "!git clone https://github.com/pedropro/TACO.git\n"
      ],
      "execution_count": null,
      "outputs": [
        {
          "output_type": "stream",
          "name": "stdout",
          "text": [
            "Cloning into 'TACO'...\n",
            "remote: Enumerating objects: 476, done.\u001b[K\n",
            "remote: Counting objects: 100% (206/206), done.\u001b[K\n",
            "remote: Compressing objects: 100% (135/135), done.\u001b[K\n",
            "remote: Total 476 (delta 150), reused 124 (delta 71), pack-reused 270\u001b[K\n",
            "Receiving objects: 100% (476/476), 68.35 MiB | 18.72 MiB/s, done.\n",
            "Resolving deltas: 100% (301/301), done.\n"
          ]
        }
      ]
    },
    {
      "cell_type": "code",
      "metadata": {
        "colab": {
          "base_uri": "https://localhost:8080/"
        },
        "id": "nsVMzpWe3k8K",
        "outputId": "bc5483d4-0ee6-4dde-806e-1abd46608a42"
      },
      "source": [
        "%cd TACO/\n",
        "!python download.py"
      ],
      "execution_count": null,
      "outputs": [
        {
          "output_type": "stream",
          "name": "stdout",
          "text": [
            "/content/TACO\n",
            "Note. If for any reason the connection is broken. Just call me again and I will start where I left.\n",
            "Finished\n"
          ]
        }
      ]
    },
    {
      "cell_type": "code",
      "metadata": {
        "colab": {
          "base_uri": "https://localhost:8080/"
        },
        "id": "VtVeGgPp31jf",
        "outputId": "52b4c8a4-19e8-4420-db68-34763b0b482e"
      },
      "source": [
        "%cd ..\n"
      ],
      "execution_count": null,
      "outputs": [
        {
          "output_type": "stream",
          "name": "stdout",
          "text": [
            "/content\n"
          ]
        }
      ]
    },
    {
      "cell_type": "code",
      "metadata": {
        "colab": {
          "base_uri": "https://localhost:8080/"
        },
        "id": "z9astlw7qVtx",
        "outputId": "6b8c5ed2-d9b0-4986-b674-22af935b30a8"
      },
      "source": [
        "!git clone https://github.com/rkuo2000/yolov5\n",
        "%cd yolov5"
      ],
      "execution_count": null,
      "outputs": [
        {
          "output_type": "stream",
          "name": "stdout",
          "text": [
            "Cloning into 'yolov5'...\n",
            "remote: Enumerating objects: 3390, done.\u001b[K\n",
            "remote: Total 3390 (delta 0), reused 0 (delta 0), pack-reused 3390\u001b[K\n",
            "Receiving objects: 100% (3390/3390), 7.02 MiB | 32.99 MiB/s, done.\n",
            "Resolving deltas: 100% (2274/2274), done.\n",
            "/content/yolov5\n"
          ]
        }
      ]
    },
    {
      "cell_type": "code",
      "metadata": {
        "colab": {
          "base_uri": "https://localhost:8080/"
        },
        "id": "ptuw_Uf933Qu",
        "outputId": "a05fd467-3419-434c-b20f-bdbca07d6461"
      },
      "source": [
        "!pip install pycocotools"
      ],
      "execution_count": null,
      "outputs": [
        {
          "output_type": "stream",
          "name": "stdout",
          "text": [
            "Requirement already satisfied: pycocotools in /usr/local/lib/python3.7/dist-packages (2.0.2)\n",
            "Requirement already satisfied: cython>=0.27.3 in /usr/local/lib/python3.7/dist-packages (from pycocotools) (0.29.24)\n",
            "Requirement already satisfied: setuptools>=18.0 in /usr/local/lib/python3.7/dist-packages (from pycocotools) (57.4.0)\n",
            "Requirement already satisfied: matplotlib>=2.1.0 in /usr/local/lib/python3.7/dist-packages (from pycocotools) (3.2.2)\n",
            "Requirement already satisfied: cycler>=0.10 in /usr/local/lib/python3.7/dist-packages (from matplotlib>=2.1.0->pycocotools) (0.11.0)\n",
            "Requirement already satisfied: numpy>=1.11 in /usr/local/lib/python3.7/dist-packages (from matplotlib>=2.1.0->pycocotools) (1.19.5)\n",
            "Requirement already satisfied: python-dateutil>=2.1 in /usr/local/lib/python3.7/dist-packages (from matplotlib>=2.1.0->pycocotools) (2.8.2)\n",
            "Requirement already satisfied: pyparsing!=2.0.4,!=2.1.2,!=2.1.6,>=2.0.1 in /usr/local/lib/python3.7/dist-packages (from matplotlib>=2.1.0->pycocotools) (2.4.7)\n",
            "Requirement already satisfied: kiwisolver>=1.0.1 in /usr/local/lib/python3.7/dist-packages (from matplotlib>=2.1.0->pycocotools) (1.3.2)\n",
            "Requirement already satisfied: six>=1.5 in /usr/local/lib/python3.7/dist-packages (from python-dateutil>=2.1->matplotlib>=2.1.0->pycocotools) (1.15.0)\n"
          ]
        }
      ]
    },
    {
      "cell_type": "code",
      "metadata": {
        "colab": {
          "base_uri": "https://localhost:8080/"
        },
        "id": "HCJgj3B_p-qp",
        "outputId": "f5a9a2d1-71a0-42e8-f24d-a93d71251d2f"
      },
      "source": [
        "!pip install google_utils"
      ],
      "execution_count": null,
      "outputs": [
        {
          "output_type": "stream",
          "name": "stdout",
          "text": [
            "Collecting google_utils\n",
            "  Downloading google_utils-1.0.3-py3-none-any.whl (16 kB)\n",
            "Requirement already satisfied: requests in /usr/local/lib/python3.7/dist-packages (from google_utils) (2.23.0)\n",
            "Requirement already satisfied: bs4 in /usr/local/lib/python3.7/dist-packages (from google_utils) (0.0.1)\n",
            "Requirement already satisfied: beautifulsoup4 in /usr/local/lib/python3.7/dist-packages (from bs4->google_utils) (4.6.3)\n",
            "Requirement already satisfied: chardet<4,>=3.0.2 in /usr/local/lib/python3.7/dist-packages (from requests->google_utils) (3.0.4)\n",
            "Requirement already satisfied: certifi>=2017.4.17 in /usr/local/lib/python3.7/dist-packages (from requests->google_utils) (2021.10.8)\n",
            "Requirement already satisfied: idna<3,>=2.5 in /usr/local/lib/python3.7/dist-packages (from requests->google_utils) (2.10)\n",
            "Requirement already satisfied: urllib3!=1.25.0,!=1.25.1,<1.26,>=1.21.1 in /usr/local/lib/python3.7/dist-packages (from requests->google_utils) (1.24.3)\n",
            "Installing collected packages: google-utils\n",
            "Successfully installed google-utils-1.0.3\n"
          ]
        }
      ]
    },
    {
      "cell_type": "code",
      "metadata": {
        "colab": {
          "base_uri": "https://localhost:8080/",
          "height": 229
        },
        "id": "q9PcnYwB39qw",
        "outputId": "d2eec2c7-a741-4995-9881-03c46c3b72e5"
      },
      "source": [
        "from google_utils import *\n",
        "attempt_download('weights/yolov5s.pt')\n",
        "attempt_download('weights/yolov5m.pt')\n",
        "attempt_download('weights/yolov5l.pt')\n",
        "attempt_download('weights/yolov5x.pt')"
      ],
      "execution_count": null,
      "outputs": [
        {
          "output_type": "error",
          "ename": "NameError",
          "evalue": "ignored",
          "traceback": [
            "\u001b[0;31m---------------------------------------------------------------------------\u001b[0m",
            "\u001b[0;31mNameError\u001b[0m                                 Traceback (most recent call last)",
            "\u001b[0;32m<ipython-input-31-8b4672345121>\u001b[0m in \u001b[0;36m<module>\u001b[0;34m()\u001b[0m\n\u001b[1;32m      1\u001b[0m \u001b[0;32mfrom\u001b[0m \u001b[0mgoogle_utils\u001b[0m \u001b[0;32mimport\u001b[0m \u001b[0;34m*\u001b[0m\u001b[0;34m\u001b[0m\u001b[0;34m\u001b[0m\u001b[0m\n\u001b[0;32m----> 2\u001b[0;31m \u001b[0mattempt_download\u001b[0m\u001b[0;34m(\u001b[0m\u001b[0;34m'weights/yolov5s.pt'\u001b[0m\u001b[0;34m)\u001b[0m\u001b[0;34m\u001b[0m\u001b[0;34m\u001b[0m\u001b[0m\n\u001b[0m\u001b[1;32m      3\u001b[0m \u001b[0mattempt_download\u001b[0m\u001b[0;34m(\u001b[0m\u001b[0;34m'weights/yolov5m.pt'\u001b[0m\u001b[0;34m)\u001b[0m\u001b[0;34m\u001b[0m\u001b[0;34m\u001b[0m\u001b[0m\n\u001b[1;32m      4\u001b[0m \u001b[0mattempt_download\u001b[0m\u001b[0;34m(\u001b[0m\u001b[0;34m'weights/yolov5l.pt'\u001b[0m\u001b[0;34m)\u001b[0m\u001b[0;34m\u001b[0m\u001b[0;34m\u001b[0m\u001b[0m\n\u001b[1;32m      5\u001b[0m \u001b[0mattempt_download\u001b[0m\u001b[0;34m(\u001b[0m\u001b[0;34m'weights/yolov5x.pt'\u001b[0m\u001b[0;34m)\u001b[0m\u001b[0;34m\u001b[0m\u001b[0;34m\u001b[0m\u001b[0m\n",
            "\u001b[0;31mNameError\u001b[0m: name 'attempt_download' is not defined"
          ]
        }
      ]
    },
    {
      "cell_type": "code",
      "metadata": {
        "id": "S2HV-uRH4RTr"
      },
      "source": [
        "import os\n",
        "import shutil\n",
        "import numpy as np\n",
        "import tqdm\n",
        "from google.colab import files as locfiles"
      ],
      "execution_count": null,
      "outputs": []
    },
    {
      "cell_type": "code",
      "metadata": {
        "colab": {
          "base_uri": "https://localhost:8080/"
        },
        "id": "absaT6F04Tyn",
        "outputId": "d7717fae-4b27-43a4-dfd1-1018849505f4"
      },
      "source": [
        "from pycocotools.coco import COCO\n",
        "data_source = COCO(annotation_file='/content/TACO/data/annotations.json')"
      ],
      "execution_count": null,
      "outputs": [
        {
          "output_type": "stream",
          "name": "stdout",
          "text": [
            "loading annotations into memory...\n",
            "Done (t=0.12s)\n",
            "creating index...\n",
            "index created!\n"
          ]
        }
      ]
    },
    {
      "cell_type": "code",
      "metadata": {
        "id": "PZIyK1bC4td7"
      },
      "source": [
        "# remapping label id to 0~1\n",
        "# label_transfer = {5: 0, 12: 1}\n",
        "label_transfer = {5: 0, 12: 1, 7: 2, 29: 3, 36: 4, 39: 5, 58: 6, 59: 7}"
      ],
      "execution_count": null,
      "outputs": []
    },
    {
      "cell_type": "code",
      "metadata": {
        "id": "FfVrtdcs4vZH"
      },
      "source": [
        "img_ids = data_source.getImgIds()\n",
        "\n",
        "catIds = data_source.getCatIds()\n",
        "categories = data_source.loadCats(catIds)\n",
        "categories.sort(key=lambda x: x['id'])\n",
        "classes = {}\n",
        "coco_labels = {}\n",
        "coco_labels_inverse = {}\n",
        "for c in categories:\n",
        "    coco_labels[len(classes)] = c['id']\n",
        "    coco_labels_inverse[c['id']] = len(classes)\n",
        "    classes[c['name']] = len(classes)\n",
        "\n",
        "class_num = {}"
      ],
      "execution_count": null,
      "outputs": []
    },
    {
      "cell_type": "code",
      "metadata": {
        "id": "Hf12-e4O4xu_"
      },
      "source": [
        "!mkdir -p tmp/labels tmp/images\n",
        "save_base_path  = 'tmp/labels/'\n",
        "save_image_path = 'tmp/images/'"
      ],
      "execution_count": null,
      "outputs": []
    },
    {
      "cell_type": "code",
      "metadata": {
        "colab": {
          "base_uri": "https://localhost:8080/"
        },
        "id": "Qj2nCJs14zmO",
        "outputId": "9d346599-7b6a-46e5-d976-67345edddec9"
      },
      "source": [
        "for index, img_id in tqdm.tqdm(enumerate(img_ids), desc='change .json file to .txt file'):\n",
        "    img_info = data_source.loadImgs(img_id)[0]\n",
        "    save_name = img_info['file_name'].replace('/', '_')\n",
        "    file_name = save_name.split('.')[0]\n",
        "    height = img_info['height']\n",
        "    width = img_info['width']\n",
        "    save_path = save_base_path + file_name + '.txt'\n",
        "    is_exist = False \n",
        "    with open(save_path, mode='w') as fp:\n",
        "\n",
        "        annotation_id = data_source.getAnnIds(img_id)\n",
        "        boxes = np.zeros((0, 5))\n",
        "        if len(annotation_id) == 0:  \n",
        "            fp.write('')\n",
        "            continue\n",
        "        \n",
        "        annotations = data_source.loadAnns(annotation_id)\n",
        "        lines = ''  \n",
        "        for annotation in annotations:\n",
        "           \n",
        "            label = coco_labels_inverse[annotation['category_id']]\n",
        "            if label in label_transfer.keys():\n",
        "                \n",
        "                is_exist = True\n",
        "                box = annotation['bbox']\n",
        "                if box[2] < 1 or box[3] < 1:\n",
        "                    \n",
        "                    continue\n",
        "                # top_x,top_y,width,height==>cen_x,cen_y,width,height\n",
        "                box[0] = round((box[0] + box[2] / 2) / width, 6)\n",
        "                box[1] = round((box[1] + box[3] / 2) / height, 6)\n",
        "                box[2] = round(box[2] / width, 6)\n",
        "                box[3] = round(box[3] / height, 6)\n",
        "                label = label_transfer[label]  \n",
        "                if label not in class_num.keys():\n",
        "                    class_num[label] = 0\n",
        "                class_num[label] += 1\n",
        "                lines = lines + str(label) \n",
        "                for i in box:  \n",
        "                    lines += ' ' + str(i)\n",
        "                lines += '\\n' \n",
        "        fp.writelines(lines)\n",
        "    if is_exist:\n",
        "        shutil.copy('/content/TACO/data/{}'.format(img_info['file_name']), os.path.join(save_image_path, save_name))\n",
        "    else:\n",
        "        #\n",
        "        os.remove(save_path)"
      ],
      "execution_count": null,
      "outputs": [
        {
          "output_type": "stream",
          "name": "stderr",
          "text": [
            "change .json file to .txt file: 1500it [00:07, 206.37it/s]\n"
          ]
        }
      ]
    },
    {
      "cell_type": "code",
      "metadata": {
        "colab": {
          "base_uri": "https://localhost:8080/"
        },
        "id": "P4BU37M27wFS",
        "outputId": "e498b687-359e-49c7-d4ec-611eca3a7a88"
      },
      "source": [
        "!pip install split-folders"
      ],
      "execution_count": null,
      "outputs": [
        {
          "output_type": "stream",
          "name": "stdout",
          "text": [
            "Collecting split-folders\n",
            "  Downloading split_folders-0.4.3-py3-none-any.whl (7.4 kB)\n",
            "Installing collected packages: split-folders\n",
            "Successfully installed split-folders-0.4.3\n"
          ]
        }
      ]
    },
    {
      "cell_type": "code",
      "metadata": {
        "colab": {
          "base_uri": "https://localhost:8080/"
        },
        "id": "1YjDyT0X9MwF",
        "outputId": "06d0172f-4810-49c1-b34d-3972afe6d904"
      },
      "source": [
        "import splitfolders\n",
        "splitfolders.ratio('tmp', output=\"taco\", seed=1337, ratio=(.8, 0.1,0.1)) "
      ],
      "execution_count": null,
      "outputs": [
        {
          "output_type": "stream",
          "name": "stderr",
          "text": [
            "Copying files: 2172 files [00:07, 293.42 files/s]\n"
          ]
        }
      ]
    },
    {
      "cell_type": "code",
      "metadata": {
        "colab": {
          "base_uri": "https://localhost:8080/"
        },
        "id": "BtyXLZqW-uIP",
        "outputId": "f34bf3ef-5fc7-4181-b84d-fbd9f7be78ae"
      },
      "source": [
        "!pip install -r requirements.txt"
      ],
      "execution_count": null,
      "outputs": [
        {
          "output_type": "stream",
          "name": "stdout",
          "text": [
            "Requirement already satisfied: Cython in /usr/local/lib/python3.7/dist-packages (from -r requirements.txt (line 4)) (0.29.24)\n",
            "Requirement already satisfied: matplotlib>=3.2.2 in /usr/local/lib/python3.7/dist-packages (from -r requirements.txt (line 5)) (3.2.2)\n",
            "Requirement already satisfied: numpy>=1.18.5 in /usr/local/lib/python3.7/dist-packages (from -r requirements.txt (line 6)) (1.19.5)\n",
            "Requirement already satisfied: opencv-python>=4.1.2 in /usr/local/lib/python3.7/dist-packages (from -r requirements.txt (line 7)) (4.1.2.30)\n",
            "Requirement already satisfied: Pillow in /usr/local/lib/python3.7/dist-packages (from -r requirements.txt (line 8)) (7.1.2)\n",
            "Collecting PyYAML==5.3\n",
            "  Downloading PyYAML-5.3.tar.gz (268 kB)\n",
            "\u001b[K     |████████████████████████████████| 268 kB 6.9 MB/s \n",
            "\u001b[?25hRequirement already satisfied: scipy==1.4.1 in /usr/local/lib/python3.7/dist-packages (from -r requirements.txt (line 10)) (1.4.1)\n",
            "Collecting tensorboard==2.2\n",
            "  Downloading tensorboard-2.2.0-py3-none-any.whl (2.8 MB)\n",
            "\u001b[K     |████████████████████████████████| 2.8 MB 44.9 MB/s \n",
            "\u001b[?25hCollecting torch==1.7.0\n",
            "  Downloading torch-1.7.0-cp37-cp37m-manylinux1_x86_64.whl (776.7 MB)\n",
            "\u001b[K     |████████████████████████████████| 776.7 MB 4.8 kB/s \n",
            "\u001b[?25hCollecting torchvision==0.8.1\n",
            "  Downloading torchvision-0.8.1-cp37-cp37m-manylinux1_x86_64.whl (12.7 MB)\n",
            "\u001b[K     |████████████████████████████████| 12.7 MB 15.6 MB/s \n",
            "\u001b[?25hRequirement already satisfied: tqdm>=4.41.0 in /usr/local/lib/python3.7/dist-packages (from -r requirements.txt (line 14)) (4.62.3)\n",
            "Requirement already satisfied: seaborn in /usr/local/lib/python3.7/dist-packages (from -r requirements.txt (line 20)) (0.11.2)\n",
            "Requirement already satisfied: pandas in /usr/local/lib/python3.7/dist-packages (from -r requirements.txt (line 21)) (1.1.5)\n",
            "Requirement already satisfied: thop in /usr/local/lib/python3.7/dist-packages (from -r requirements.txt (line 29)) (0.0.31.post2005241907)\n",
            "Requirement already satisfied: pycocotools>=2.0 in /usr/local/lib/python3.7/dist-packages (from -r requirements.txt (line 30)) (2.0.2)\n",
            "Requirement already satisfied: werkzeug>=0.11.15 in /usr/local/lib/python3.7/dist-packages (from tensorboard==2.2->-r requirements.txt (line 11)) (1.0.1)\n",
            "Requirement already satisfied: absl-py>=0.4 in /usr/local/lib/python3.7/dist-packages (from tensorboard==2.2->-r requirements.txt (line 11)) (0.12.0)\n",
            "Requirement already satisfied: markdown>=2.6.8 in /usr/local/lib/python3.7/dist-packages (from tensorboard==2.2->-r requirements.txt (line 11)) (3.3.4)\n",
            "Requirement already satisfied: requests<3,>=2.21.0 in /usr/local/lib/python3.7/dist-packages (from tensorboard==2.2->-r requirements.txt (line 11)) (2.23.0)\n",
            "Requirement already satisfied: setuptools>=41.0.0 in /usr/local/lib/python3.7/dist-packages (from tensorboard==2.2->-r requirements.txt (line 11)) (57.4.0)\n",
            "Requirement already satisfied: google-auth-oauthlib<0.5,>=0.4.1 in /usr/local/lib/python3.7/dist-packages (from tensorboard==2.2->-r requirements.txt (line 11)) (0.4.6)\n",
            "Requirement already satisfied: google-auth<2,>=1.6.3 in /usr/local/lib/python3.7/dist-packages (from tensorboard==2.2->-r requirements.txt (line 11)) (1.35.0)\n",
            "Requirement already satisfied: tensorboard-plugin-wit>=1.6.0 in /usr/local/lib/python3.7/dist-packages (from tensorboard==2.2->-r requirements.txt (line 11)) (1.8.0)\n",
            "Requirement already satisfied: protobuf>=3.6.0 in /usr/local/lib/python3.7/dist-packages (from tensorboard==2.2->-r requirements.txt (line 11)) (3.17.3)\n",
            "Requirement already satisfied: six>=1.10.0 in /usr/local/lib/python3.7/dist-packages (from tensorboard==2.2->-r requirements.txt (line 11)) (1.15.0)\n",
            "Requirement already satisfied: grpcio>=1.24.3 in /usr/local/lib/python3.7/dist-packages (from tensorboard==2.2->-r requirements.txt (line 11)) (1.41.1)\n",
            "Requirement already satisfied: wheel>=0.26 in /usr/local/lib/python3.7/dist-packages (from tensorboard==2.2->-r requirements.txt (line 11)) (0.37.0)\n",
            "Requirement already satisfied: typing-extensions in /usr/local/lib/python3.7/dist-packages (from torch==1.7.0->-r requirements.txt (line 12)) (3.10.0.2)\n",
            "Collecting dataclasses\n",
            "  Downloading dataclasses-0.6-py3-none-any.whl (14 kB)\n",
            "Requirement already satisfied: future in /usr/local/lib/python3.7/dist-packages (from torch==1.7.0->-r requirements.txt (line 12)) (0.16.0)\n",
            "Requirement already satisfied: kiwisolver>=1.0.1 in /usr/local/lib/python3.7/dist-packages (from matplotlib>=3.2.2->-r requirements.txt (line 5)) (1.3.2)\n",
            "Requirement already satisfied: cycler>=0.10 in /usr/local/lib/python3.7/dist-packages (from matplotlib>=3.2.2->-r requirements.txt (line 5)) (0.11.0)\n",
            "Requirement already satisfied: python-dateutil>=2.1 in /usr/local/lib/python3.7/dist-packages (from matplotlib>=3.2.2->-r requirements.txt (line 5)) (2.8.2)\n",
            "Requirement already satisfied: pyparsing!=2.0.4,!=2.1.2,!=2.1.6,>=2.0.1 in /usr/local/lib/python3.7/dist-packages (from matplotlib>=3.2.2->-r requirements.txt (line 5)) (2.4.7)\n",
            "Requirement already satisfied: pyasn1-modules>=0.2.1 in /usr/local/lib/python3.7/dist-packages (from google-auth<2,>=1.6.3->tensorboard==2.2->-r requirements.txt (line 11)) (0.2.8)\n",
            "Requirement already satisfied: rsa<5,>=3.1.4 in /usr/local/lib/python3.7/dist-packages (from google-auth<2,>=1.6.3->tensorboard==2.2->-r requirements.txt (line 11)) (4.7.2)\n",
            "Requirement already satisfied: cachetools<5.0,>=2.0.0 in /usr/local/lib/python3.7/dist-packages (from google-auth<2,>=1.6.3->tensorboard==2.2->-r requirements.txt (line 11)) (4.2.4)\n",
            "Requirement already satisfied: requests-oauthlib>=0.7.0 in /usr/local/lib/python3.7/dist-packages (from google-auth-oauthlib<0.5,>=0.4.1->tensorboard==2.2->-r requirements.txt (line 11)) (1.3.0)\n",
            "Requirement already satisfied: importlib-metadata in /usr/local/lib/python3.7/dist-packages (from markdown>=2.6.8->tensorboard==2.2->-r requirements.txt (line 11)) (4.8.1)\n",
            "Requirement already satisfied: pyasn1<0.5.0,>=0.4.6 in /usr/local/lib/python3.7/dist-packages (from pyasn1-modules>=0.2.1->google-auth<2,>=1.6.3->tensorboard==2.2->-r requirements.txt (line 11)) (0.4.8)\n",
            "Requirement already satisfied: idna<3,>=2.5 in /usr/local/lib/python3.7/dist-packages (from requests<3,>=2.21.0->tensorboard==2.2->-r requirements.txt (line 11)) (2.10)\n",
            "Requirement already satisfied: urllib3!=1.25.0,!=1.25.1,<1.26,>=1.21.1 in /usr/local/lib/python3.7/dist-packages (from requests<3,>=2.21.0->tensorboard==2.2->-r requirements.txt (line 11)) (1.24.3)\n",
            "Requirement already satisfied: chardet<4,>=3.0.2 in /usr/local/lib/python3.7/dist-packages (from requests<3,>=2.21.0->tensorboard==2.2->-r requirements.txt (line 11)) (3.0.4)\n",
            "Requirement already satisfied: certifi>=2017.4.17 in /usr/local/lib/python3.7/dist-packages (from requests<3,>=2.21.0->tensorboard==2.2->-r requirements.txt (line 11)) (2021.10.8)\n",
            "Requirement already satisfied: oauthlib>=3.0.0 in /usr/local/lib/python3.7/dist-packages (from requests-oauthlib>=0.7.0->google-auth-oauthlib<0.5,>=0.4.1->tensorboard==2.2->-r requirements.txt (line 11)) (3.1.1)\n",
            "Requirement already satisfied: pytz>=2017.2 in /usr/local/lib/python3.7/dist-packages (from pandas->-r requirements.txt (line 21)) (2018.9)\n",
            "Requirement already satisfied: zipp>=0.5 in /usr/local/lib/python3.7/dist-packages (from importlib-metadata->markdown>=2.6.8->tensorboard==2.2->-r requirements.txt (line 11)) (3.6.0)\n",
            "Building wheels for collected packages: PyYAML\n",
            "  Building wheel for PyYAML (setup.py) ... \u001b[?25l\u001b[?25hdone\n",
            "  Created wheel for PyYAML: filename=PyYAML-5.3-cp37-cp37m-linux_x86_64.whl size=44244 sha256=2f35ccde30076cbb1f0de89f40bcf6e5827118aad2880eca26b0928aa9269f58\n",
            "  Stored in directory: /root/.cache/pip/wheels/8a/55/a4/c0a81d27c33462cfdcb904db018f5550197e88b2b6b85beed2\n",
            "Successfully built PyYAML\n",
            "Installing collected packages: dataclasses, torch, torchvision, tensorboard, PyYAML\n",
            "  Attempting uninstall: torch\n",
            "    Found existing installation: torch 1.9.0+cu111\n",
            "    Uninstalling torch-1.9.0+cu111:\n",
            "      Successfully uninstalled torch-1.9.0+cu111\n",
            "  Attempting uninstall: torchvision\n",
            "    Found existing installation: torchvision 0.10.0+cu111\n",
            "    Uninstalling torchvision-0.10.0+cu111:\n",
            "      Successfully uninstalled torchvision-0.10.0+cu111\n",
            "  Attempting uninstall: tensorboard\n",
            "    Found existing installation: tensorboard 2.7.0\n",
            "    Uninstalling tensorboard-2.7.0:\n",
            "      Successfully uninstalled tensorboard-2.7.0\n",
            "  Attempting uninstall: PyYAML\n",
            "    Found existing installation: PyYAML 6.0\n",
            "    Uninstalling PyYAML-6.0:\n",
            "      Successfully uninstalled PyYAML-6.0\n",
            "\u001b[31mERROR: pip's dependency resolver does not currently take into account all the packages that are installed. This behaviour is the source of the following dependency conflicts.\n",
            "torchtext 0.10.0 requires torch==1.9.0, but you have torch 1.7.0 which is incompatible.\n",
            "tensorflow 2.7.0 requires tensorboard~=2.6, but you have tensorboard 2.2.0 which is incompatible.\u001b[0m\n",
            "Successfully installed PyYAML-5.3 dataclasses-0.6 tensorboard-2.2.0 torch-1.7.0 torchvision-0.8.1\n"
          ]
        }
      ]
    },
    {
      "cell_type": "code",
      "metadata": {
        "id": "eEmjr6UPl9rG"
      },
      "source": [
        "%mkdir /content/yolov5-taco-models\n",
        "!touch /content/yolov5-taco-models/taco8.yaml"
      ],
      "execution_count": null,
      "outputs": []
    },
    {
      "cell_type": "code",
      "metadata": {
        "id": "coJK-ECIm1dt"
      },
      "source": [
        "!pip install torch==1.7.0"
      ],
      "execution_count": null,
      "outputs": []
    },
    {
      "cell_type": "code",
      "metadata": {
        "colab": {
          "base_uri": "https://localhost:8080/",
          "height": 35
        },
        "id": "Z6LWdsH2ffpv",
        "outputId": "97ebdb4a-6eeb-40f9-9de2-a57e4a17b0a6"
      },
      "source": [
        "pwd"
      ],
      "execution_count": null,
      "outputs": [
        {
          "output_type": "execute_result",
          "data": {
            "application/vnd.google.colaboratory.intrinsic+json": {
              "type": "string"
            },
            "text/plain": [
              "'/content/yolov5'"
            ]
          },
          "metadata": {},
          "execution_count": 29
        }
      ]
    },
    {
      "cell_type": "code",
      "metadata": {
        "colab": {
          "base_uri": "https://localhost:8080/"
        },
        "id": "sjSnkuQZ9NSX",
        "outputId": "7dab5b1c-dcb8-4540-f2c5-0ac6e0419bbd"
      },
      "source": [
        "!python train.py --img 640 --batch 1 --epochs 10 --data /content/yolov5-taco-models/taco8.yaml --cfg models/yolov5l.yaml --weights yolov5l.pt\n"
      ],
      "execution_count": null,
      "outputs": [
        {
          "output_type": "stream",
          "name": "stdout",
          "text": [
            "Using torch 1.7.0 CUDA:0 (Tesla P100-PCIE-16GB, 16280MB)\n",
            "\n",
            "Namespace(adam=False, batch_size=1, bucket='', cache_images=False, cfg='models/yolov5l.yaml', data='/content/yolov5-taco-models/taco8.yaml', device='', epochs=10, evolve=False, exist_ok=False, global_rank=-1, hyp='data/hyp.scratch.yaml', image_weights=False, img_size=[640, 640], local_rank=-1, log_artifacts=False, log_imgs=16, multi_scale=False, name='exp', noautoanchor=False, nosave=False, notest=False, project='runs/train', rect=False, resume=False, save_dir='runs/train/exp2', single_cls=False, sync_bn=False, total_batch_size=1, weights='yolov5l.pt', workers=8, world_size=1)\n",
            "Start Tensorboard with \"tensorboard --logdir runs/train\", view at http://localhost:6006/\n",
            "Hyperparameters {'lr0': 0.01, 'lrf': 0.2, 'momentum': 0.937, 'weight_decay': 0.0005, 'warmup_epochs': 3.0, 'warmup_momentum': 0.8, 'warmup_bias_lr': 0.1, 'box': 0.05, 'cls': 0.5, 'cls_pw': 1.0, 'obj': 1.0, 'obj_pw': 1.0, 'iou_t': 0.2, 'anchor_t': 4.0, 'fl_gamma': 0.0, 'hsv_h': 0.015, 'hsv_s': 0.7, 'hsv_v': 0.4, 'degrees': 0.0, 'translate': 0.1, 'scale': 0.5, 'shear': 0.0, 'perspective': 0.0, 'flipud': 0.0, 'fliplr': 0.5, 'mosaic': 1.0, 'mixup': 0.0}\n",
            "Traceback (most recent call last):\n",
            "  File \"train.py\", line 512, in <module>\n",
            "    train(hyp, opt, device, tb_writer, wandb)\n",
            "  File \"train.py\", line 71, in train\n",
            "    check_dataset(data_dict)  # check\n",
            "  File \"/content/yolov5/utils/general.py\", line 77, in check_dataset\n",
            "    val, s = dict.get('val'), dict.get('download')\n",
            "AttributeError: 'NoneType' object has no attribute 'get'\n"
          ]
        }
      ]
    },
    {
      "cell_type": "code",
      "metadata": {
        "id": "_IXUxZrsXL-B"
      },
      "source": [
        "!tar -zcvf runs/exp6_complete.tar.gz runs/train/exp/ \n",
        "locfiles.download('runs/exp_complete.tar.gz')"
      ],
      "execution_count": null,
      "outputs": []
    },
    {
      "cell_type": "code",
      "metadata": {
        "id": "85jDtPlWXaLM"
      },
      "source": [
        "!python train.py --img 640 --batch 1 --epochs 10 --data /content/yolov5-taco-models/taco8.yaml --cfg models/yolov5l.yaml --weights runs/train/exp/weights/yolov5l.pt\n"
      ],
      "execution_count": null,
      "outputs": []
    },
    {
      "cell_type": "code",
      "metadata": {
        "id": "St9Ef5F6Rro7"
      },
      "source": [
        "!tar -zcvf runs/exp6_complete.tar.gz runs/train/exp/ \n",
        "locfiles.download('runs/exp_complete.tar.gz')"
      ],
      "execution_count": null,
      "outputs": []
    },
    {
      "cell_type": "code",
      "metadata": {
        "id": "fvs31TWMcOIY"
      },
      "source": [
        "!python train.py --img 412 --batch 1 --epochs 10 --data /content/yolov5-taco-models/taco8.yaml --cfg models/yolov5s.yaml --weights runs/train/exp2/weights/best.pt\n"
      ],
      "execution_count": null,
      "outputs": []
    },
    {
      "cell_type": "code",
      "metadata": {
        "id": "MIurI8oYOesb"
      },
      "source": [
        "!python train.py --img 412 --batch 1 --epochs 10 --data /content/yolov5-taco-models/taco8.yaml --cfg models/yolov5s.yaml --weights runs/train/exp3/weights/best.pt\n"
      ],
      "execution_count": null,
      "outputs": []
    },
    {
      "cell_type": "code",
      "metadata": {
        "id": "IJ8uvN-hoZy6"
      },
      "source": [
        "!tar -zcvf runs/exp4_complete.tar.gz runs/train/exp4/ \n",
        "locfiles.download('runs/exp4_complete.tar.gz')"
      ],
      "execution_count": null,
      "outputs": []
    },
    {
      "cell_type": "code",
      "metadata": {
        "id": "hDJZlzeVjoYZ"
      },
      "source": [
        "!python train.py --img 416 --batch 1 --epochs 10 --data /content/yolov5-taco-models/taco8.yaml --cfg models/yolov5s.yaml --weights runs/train/exp4/weights/best.pt\n"
      ],
      "execution_count": null,
      "outputs": []
    },
    {
      "cell_type": "code",
      "metadata": {
        "id": "Lpq8tuo_oZlT"
      },
      "source": [
        "!tar -zcvf runs/exp5_complete.tar.gz runs/train/exp5/ \n",
        "locfiles.download('runs/exp5_complete.tar.gz')"
      ],
      "execution_count": null,
      "outputs": []
    },
    {
      "cell_type": "code",
      "metadata": {
        "id": "ty_aK5VcL-x_"
      },
      "source": [
        "from IPython.display import Image"
      ],
      "execution_count": null,
      "outputs": []
    },
    {
      "cell_type": "code",
      "metadata": {
        "id": "s6wK_CiiTQxA"
      },
      "source": [
        "!python detect.py --weights runs/train/exp5/weights/best.pt --img 640 --conf 0.1 --source /content/yolov5/tmp/images/batch_1_000004.jpg"
      ],
      "execution_count": null,
      "outputs": []
    },
    {
      "cell_type": "code",
      "metadata": {
        "id": "h_9pXwJDLnY4"
      },
      "source": [
        "!python detect.py --weights /content/yolov5/weights/yolov5l.pt --img 640 --conf 0.4 --source /content/yolov5/tmp/images/batch_1_000004.jpg"
      ],
      "execution_count": null,
      "outputs": []
    },
    {
      "cell_type": "code",
      "metadata": {
        "id": "mbk_pg7uL3Lk"
      },
      "source": [
        "Image('runs/detect/exp10/batch_1_000004.jpg')"
      ],
      "execution_count": null,
      "outputs": []
    },
    {
      "cell_type": "code",
      "metadata": {
        "id": "QeykOh3BogO4"
      },
      "source": [
        "!python train.py --img 416 --batch 1 --epochs 10 --data /content/yolov5-taco-models/taco8.yaml --cfg models/yolov5s.yaml --weights runs/train/exp5/weights/best.pt\n"
      ],
      "execution_count": null,
      "outputs": []
    },
    {
      "cell_type": "code",
      "metadata": {
        "id": "AjuKnBQLi5QJ"
      },
      "source": [
        "!tar -zcvf runs/exp5_complete.tar.gz runs/train/exp6/ \n",
        "locfiles.download('runs/exp6_complete.tar.gz')"
      ],
      "execution_count": null,
      "outputs": []
    },
    {
      "cell_type": "code",
      "metadata": {
        "id": "ax4lQIS4X9j4"
      },
      "source": [
        "!python train.py --img 416 --batch 1 --epochs 10 --data /content/yolov5-taco-models/taco8.yaml --cfg models/yolov5s.yaml --weights runs/train/exp6/weights/best.pt\n"
      ],
      "execution_count": null,
      "outputs": []
    },
    {
      "cell_type": "code",
      "metadata": {
        "id": "Zk-kNpMUk7Xu"
      },
      "source": [
        "!tar -zcvf runs/exp5_complete.tar.gz runs/train/exp7/ \n",
        "locfiles.download('runs/exp7_complete.tar.gz')"
      ],
      "execution_count": null,
      "outputs": []
    },
    {
      "cell_type": "code",
      "metadata": {
        "id": "XP4lszyrodVq"
      },
      "source": [
        "!python train.py --img 416 --batch 1 --epochs 10 --data /content/yolov5-taco-models/taco8.yaml --cfg models/yolov5s.yaml --weights runs/train/exp7/weights/best.pt\n",
        "!tar -zcvf runs/exp5_complete.tar.gz runs/train/exp8/ \n",
        "locfiles.download('runs/exp8_complete.tar.gz')"
      ],
      "execution_count": null,
      "outputs": []
    },
    {
      "cell_type": "code",
      "metadata": {
        "id": "tZ4VDtMoodLm"
      },
      "source": [
        "!python train.py --img 416 --batch 1 --epochs 10 --data /content/yolov5-taco-models/taco8.yaml --cfg models/yolov5s.yaml --weights runs/train/exp8/weights/best.pt\n",
        "!tar -zcvf runs/exp5_complete.tar.gz runs/train/exp9/ \n",
        "locfiles.download('runs/exp9_complete.tar.gz')"
      ],
      "execution_count": null,
      "outputs": []
    },
    {
      "cell_type": "code",
      "metadata": {
        "id": "FXXPmBUoodEH"
      },
      "source": [
        "!python train.py --img 416 --batch 1 --epochs 10 --data /content/yolov5-taco-models/taco8.yaml --cfg models/yolov5s.yaml --weights runs/train/exp9/weights/best.pt\n",
        "!tar -zcvf runs/exp5_complete.tar.gz runs/train/exp10/ \n",
        "locfiles.download('runs/exp10_complete.tar.gz')"
      ],
      "execution_count": null,
      "outputs": []
    },
    {
      "cell_type": "code",
      "metadata": {
        "colab": {
          "base_uri": "https://localhost:8080/"
        },
        "id": "rgCrBHTnBIgc",
        "outputId": "d0ad1c79-0c70-4209-83f1-974988d42876"
      },
      "source": [
        "% cd TACO/yolov5"
      ],
      "execution_count": null,
      "outputs": [
        {
          "name": "stdout",
          "output_type": "stream",
          "text": [
            "/content/TACO/yolov5\n"
          ]
        }
      ]
    }
  ]
}